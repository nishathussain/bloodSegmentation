{
 "cells": [
  {
   "cell_type": "markdown",
   "metadata": {},
   "source": [
    "# Data Generation\n",
    "As the provided training sample is small, to avoid over fitting to the training data we will generate more data by agumentation. Also as the validation data is small agumentation is required to generate more validation sample.  \n",
    "\n",
    "\n",
    "first we devide total training data [**164**] to training and validation. A total of **144** images are selected for training and remaining **20** for validation  \n",
    "***important:*** Training and validation data shoud be separared before any data agumentation.   \n",
    "\n",
    "We will generate 100 times more data for each **Training** and **Validation** sets  \n",
    "\n",
    "Keras data agumentation module is used for the task.\n",
    "There are total 7 types of agumentation performed:\n",
    "1. image randomly shifted upto +/-40% shift in width\n",
    "2. image randomly shifted upto +/-40% shift in height\n",
    "3. image randomly shear 0.2 radians (+/-30 deg shear)\n",
    "4. upto +/-20% zoom in/out\n",
    "5. random rotation to any angle\n",
    "6. flipping images hozontally\n",
    "7. flipping images vertically\n",
    "\n",
    "***important:*** While doing agumentation we must apply same transformation to the mask aswell.  \n",
    "\n"
   ]
  },
  {
   "cell_type": "code",
   "execution_count": 17,
   "metadata": {},
   "outputs": [
    {
     "name": "stdout",
     "output_type": "stream",
     "text": [
      "fills new created space with 0\n"
     ]
    },
    {
     "data": {
      "image/jpeg": "[encoded data removed]",
      "text/plain": [
       "<IPython.core.display.Image object>"
      ]
     },
     "execution_count": 17,
     "metadata": {},
     "output_type": "execute_result"
    }
   ],
   "source": [
    "# Data Generation in the Constand Mode: fills new created space with 0\n",
    "# We will be using this for our training as it make two class balance\n",
    "from IPython.display import Image, display\n",
    "print(\"fills new created space with 0\")\n",
    "Image(filename='ag_val_constant/img_0_0_1069.jpeg')\n"
   ]
  },
  {
   "cell_type": "code",
   "execution_count": 18,
   "metadata": {},
   "outputs": [
    {
     "name": "stdout",
     "output_type": "stream",
     "text": [
      "fills new created space with Mirror Image\n"
     ]
    },
    {
     "data": {
      "image/jpeg": "[encoded data removed]",
      "text/plain": [
       "<IPython.core.display.Image object>"
      ]
     },
     "execution_count": 18,
     "metadata": {},
     "output_type": "execute_result"
    }
   ],
   "source": [
    "# Data Generation in the reflex Mode: fills new created space with Mirror Image\n",
    "print(\"fills new created space with Mirror Image\")\n",
    "Image(filename='ag_val_reflect/img_0_0_1069.jpeg')"
   ]
  },
  {
   "cell_type": "code",
   "execution_count": 1,
   "metadata": {},
   "outputs": [
    {
     "name": "stderr",
     "output_type": "stream",
     "text": [
      "Using TensorFlow backend.\n"
     ]
    }
   ],
   "source": [
    "import cv2\n",
    "# import matplotlib.pyplot as plt\n",
    "# %matplotlib inline\n",
    "import numpy as np\n",
    "import matplotlib.image as mpimg\n",
    "import os\n",
    "from scipy.misc import imread\n",
    "import keras\n",
    "import keras.backend as K"
   ]
  },
  {
   "cell_type": "code",
   "execution_count": null,
   "metadata": {
    "collapsed": true
   },
   "outputs": [],
   "source": [
    "# import copy\n",
    "# import numpy as np\n",
    "\n",
    "# from keras.models import Sequential, Model\n",
    "# from keras.layers import Input, Dropout, Permute, Add, add, BatchNormalization, Activation, UpSampling2D\n",
    "# from keras.layers import Conv2D, ZeroPadding2D, MaxPooling2D, Deconvolution2D, Cropping2D, AtrousConv2D\n",
    "#from model_WBC import getModelMask5\n",
    "#model.predict(np.random.random((1,3,128,128))).shape"
   ]
  },
  {
   "cell_type": "code",
   "execution_count": 2,
   "metadata": {
    "collapsed": true
   },
   "outputs": [],
   "source": [
    "# Training and Validation Split\n",
    "#Out of 164, Training = 144, Validation = 20\n",
    "train_data='Train_Data'\n",
    "#test_data ='Test_Data'\n",
    "Train_list= os.listdir(train_data)\n",
    "X=[]\n",
    "Y=[]\n",
    "for f in Train_list:\n",
    "    if not f.endswith('mask.jpg'):\n",
    "        #print([train_data+os.sep+f])\n",
    "        X.append(imread(train_data+os.sep+f)/255)\n",
    "        Y.append(imread(train_data+os.sep+f[:-4]+'-mask.jpg')/255)\n",
    "X=np.transpose(X,(0,3,1,2))\n",
    "Y=np.expand_dims(Y,axis=1)\n",
    "from random import randint, seed,shuffle\n",
    "seed(0)\n",
    "shuffle(X)\n",
    "seed(0)\n",
    "shuffle(Y)\n",
    "\n",
    "# before data agumentation data is devided into Training and Validation sets\n",
    "X_train=X[:-20] # 144 files are for training\n",
    "Y_train=Y[:-20]\n",
    "X_val=X[-20:] # 20 files are for validation ~12%\n",
    "Y_val=Y[-20:]"
   ]
  },
  {
   "cell_type": "markdown",
   "metadata": {},
   "source": [
    "## Data Generation\n",
    " "
   ]
  },
  {
   "cell_type": "code",
   "execution_count": null,
   "metadata": {
    "collapsed": true
   },
   "outputs": [],
   "source": [
    "from keras.preprocessing.image import ImageDataGenerator\n",
    "datagen = ImageDataGenerator(fill_mode='constant', rotation_range=360,horizontal_flip=True,vertical_flip=True,shear_range=0.2,zoom_range=0.2, width_shift_range =0.33, height_shift_range =0.33)\n",
    "#mask=[]\n",
    "#img=[]\n",
    "counter=0;tot=100*len(X_train);tot_val=100*len(X_val)\n",
    "# width_shift_range =0.4  [20% shift ]\n",
    "# height_shift_range =0.4 [20% shift ]\n",
    "# shear_range= 0.2        [in radians ~30 deg shear]\n",
    "# zoom_range=  0.2        [20% of zoom in and zoom out]\n",
    "# rotation_range = 360 [upto full 360 rotation]\n",
    "# horizontal_flip=True    \n",
    "# vertical_flip=True\n",
    "\n",
    "for batch in datagen.flow(X_train, batch_size=1, seed=1337,shuffle=False,save_to_dir='ag_train_constant',save_prefix='img_'+str(counter)): \n",
    "    #img.append(batch)\n",
    "    counter+=1\n",
    "    if(counter>tot): counter=0; break\n",
    "for batch in datagen.flow(Y_train, batch_size=1, seed=1337,shuffle=False,save_to_dir='ag_train_constant',save_prefix='msk_'+str(counter)): \n",
    "    #mask.append(batch)\n",
    "    counter+=1\n",
    "    if(counter>tot): counter=0; break\n",
    "for batch in datagen.flow(X_val, batch_size=1, seed=1337,shuffle=False,save_to_dir='ag_val_constant',save_prefix='img_'+str(counter)): \n",
    "    #img.append(batch)\n",
    "    counter+=1\n",
    "    if(counter>tot_val): counter=0; break\n",
    "for batch in datagen.flow(Y_val, batch_size=1, seed=1337,shuffle=False,save_to_dir='ag_val_constant',save_prefix='msk_'+str(counter)): \n",
    "    #mask.append(batch)\n",
    "    counter+=1\n",
    "    if(counter>tot_val): counter=0; break        \n"
   ]
  },
  {
   "cell_type": "code",
   "execution_count": null,
   "metadata": {
    "collapsed": true
   },
   "outputs": [],
   "source": [
    "# A=myGenerator()\n",
    "# X11,Y11=next(A)\n",
    "# plt.figure()\n",
    "# plt.imshow(X11[0][0])\n",
    "# plt.figure()\n",
    "# plt.imshow(Y11[0][0])"
   ]
  }
 ],
 "metadata": {
  "kernelspec": {
   "display_name": "Python 3",
   "language": "python",
   "name": "python3"
  },
  "language_info": {
   "codemirror_mode": {
    "name": "ipython",
    "version": 3
   },
   "file_extension": ".py",
   "mimetype": "text/x-python",
   "name": "python",
   "nbconvert_exporter": "python",
   "pygments_lexer": "ipython3",
   "version": "3.5.2"
  }
 },
 "nbformat": 4,
 "nbformat_minor": 2
}
